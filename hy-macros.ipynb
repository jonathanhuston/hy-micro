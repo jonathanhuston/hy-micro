{
 "cells": [
  {
   "cell_type": "code",
   "execution_count": 145,
   "metadata": {},
   "outputs": [
    {
     "data": {
      "text/plain": [
       "<function hyx_def at 0x102eaed30>"
      ]
     },
     "execution_count": 145,
     "metadata": {},
     "output_type": "execute_result"
    }
   ],
   "source": [
    "(defmacro def [symbol expr]\n",
    "    `(setv ~symbol ~expr))"
   ]
  },
  {
   "cell_type": "code",
   "execution_count": 146,
   "metadata": {},
   "outputs": [
    {
     "name": "stdout",
     "output_type": "stream",
     "text": [
      "nothing to see here\n"
     ]
    }
   ],
   "source": [
    "(def x 2)\n",
    "(cond\n",
    "    [(= x 5) (print x)]\n",
    "    [(= x 3) (print \"three\")]\n",
    "    [:else (print \"nothing to see here\")])"
   ]
  },
  {
   "cell_type": "code",
   "execution_count": 147,
   "metadata": {},
   "outputs": [
    {
     "data": {
      "text/plain": [
       "<function case at 0x102eaeb80>"
      ]
     },
     "execution_count": 147,
     "metadata": {},
     "output_type": "execute_result"
    }
   ],
   "source": [
    "(defmacro case [expr #* conditions]\n",
    "    (if-not (is (-> conditions last type) hy.models.List)\n",
    "        (setv conditions (+ (list (butlast conditions)) [[expr (last conditions)]])))\n",
    "    (+ `(cond) (tuple (lfor condition conditions `[(= ~expr ~(get condition 0)) ~(get condition 1)]))))"
   ]
  },
  {
   "cell_type": "code",
   "execution_count": 148,
   "metadata": {},
   "outputs": [],
   "source": [
    "(def x 0)\n",
    "(def three 3)\n",
    "(def four 4)\n",
    "(def five 5)"
   ]
  },
  {
   "cell_type": "code",
   "execution_count": 149,
   "metadata": {},
   "outputs": [
    {
     "name": "stdout",
     "output_type": "stream",
     "text": [
      "Nothing to see here\n"
     ]
    }
   ],
   "source": [
    "(case x\n",
    "    [three (print \"three\")]\n",
    "    [four (print \"four\")]\n",
    "    [five (print \"five\")]\n",
    "    (print \"Nothing to see here\"))"
   ]
  },
  {
   "cell_type": "code",
   "execution_count": 150,
   "metadata": {},
   "outputs": [
    {
     "data": {
      "text/plain": [
       "'Nothing to see here'"
      ]
     },
     "execution_count": 150,
     "metadata": {},
     "output_type": "execute_result"
    }
   ],
   "source": [
    "(case x\n",
    "    [three \"three\"]\n",
    "    [four \"four\"]\n",
    "    [five \"five\"]\n",
    "    \"Nothing to see here\")"
   ]
  },
  {
   "cell_type": "code",
   "execution_count": null,
   "metadata": {},
   "outputs": [],
   "source": []
  }
 ],
 "metadata": {
  "kernelspec": {
   "display_name": "Calysto Hy",
   "language": "hy",
   "name": "calysto_hy"
  },
  "language_info": {
   "codemirror_mode": {
    "name": "scheme"
   },
   "mimetype": "text/x-hylang",
   "name": "hy",
   "pygments_lexer": "lisp"
  }
 },
 "nbformat": 4,
 "nbformat_minor": 4
}

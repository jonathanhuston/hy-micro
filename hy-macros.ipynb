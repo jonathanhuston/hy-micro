{
 "cells": [
  {
   "cell_type": "code",
   "execution_count": 785,
   "metadata": {},
   "outputs": [
    {
     "data": {
      "text/plain": [
       "<function hyx_def at 0x1049b3dc0>"
      ]
     },
     "execution_count": 785,
     "metadata": {},
     "output_type": "execute_result"
    }
   ],
   "source": [
    "(defmacro def [symbol expr]\n",
    "    `(setv ~symbol ~expr))"
   ]
  },
  {
   "cell_type": "code",
   "execution_count": 786,
   "metadata": {},
   "outputs": [
    {
     "name": "stdout",
     "output_type": "stream",
     "text": [
      "nothing to see here\n"
     ]
    }
   ],
   "source": [
    "(def x 2)\n",
    "(cond\n",
    "    [(= x 5) (print x)]\n",
    "    [(= x 3) (print \"three\")]\n",
    "    [:else (print \"nothing to see here\")])"
   ]
  },
  {
   "cell_type": "code",
   "execution_count": 787,
   "metadata": {},
   "outputs": [
    {
     "data": {
      "text/plain": [
       "<function case at 0x1049b8430>"
      ]
     },
     "execution_count": 787,
     "metadata": {},
     "output_type": "execute_result"
    }
   ],
   "source": [
    "(setv x 6)\n",
    "(defmacro case [expr #* conditions]\n",
    "    (if (is (type (last conditions)) hy.models.Expression)\n",
    "        (setv conditions (+ (list (butlast conditions)) [[expr (last conditions)]])))\n",
    "    (setv branches (lfor condition conditions `[(= ~expr ~(get condition 0)) ~(get condition 1)]))\n",
    "    (+ `(cond) (tuple branches)))"
   ]
  },
  {
   "cell_type": "code",
   "execution_count": 788,
   "metadata": {},
   "outputs": [],
   "source": [
    "(def x 5)\n",
    "(def three 3)\n",
    "(def four 4)\n",
    "(def five 5)"
   ]
  },
  {
   "cell_type": "code",
   "execution_count": 789,
   "metadata": {},
   "outputs": [
    {
     "name": "stdout",
     "output_type": "stream",
     "text": [
      "five\n"
     ]
    }
   ],
   "source": [
    "(case x\n",
    "    [three (print \"three\")]\n",
    "    [four (print \"four\")]\n",
    "    [five (print \"five\")]\n",
    "    (print \"Nothing to see here\"))"
   ]
  },
  {
   "cell_type": "code",
   "execution_count": null,
   "metadata": {},
   "outputs": [],
   "source": []
  }
 ],
 "metadata": {
  "kernelspec": {
   "display_name": "Calysto Hy",
   "language": "hy",
   "name": "calysto_hy"
  },
  "language_info": {
   "codemirror_mode": {
    "name": "scheme"
   },
   "mimetype": "text/x-hylang",
   "name": "hy",
   "pygments_lexer": "lisp"
  }
 },
 "nbformat": 4,
 "nbformat_minor": 4
}
